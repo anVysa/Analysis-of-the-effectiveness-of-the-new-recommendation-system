{
 "cells": [
  {
   "cell_type": "markdown",
   "id": "3ad6a985-f9f3-4569-ab05-7f6aef01ff4e",
   "metadata": {},
   "source": [
    "#### Эксперимент с новой системой рекомендаций будет проходить с 2024-05-03 по 2024-05-09\n",
    "#### Группа 1 - контрольная.\n",
    "#### Группа 2 - тестовая, для нее будет применен новый алгоритм.\n",
    "#### Нулевая гипотеза: применение нового алгоритма рекомендаций не окажет влияние на CTR.\n",
    "#### Альтернативная гипотеза: применение нового алгоритма рекомендаций приведет к увеличению CTR.\n",
    "Для начала проверим систему сплитования, для этого проведем АА-тесты. Важно, чтобы группы перед проведением эксперимента были статистически эквивалентны.\n",
    "Возьмем данные пользователей рассматриваемых групп с 2024-04-26 по 2024-05-02, будем сэмплировать по 500 пользователей из полученных выборок без повторения и проводить t-тест для каждой такой подвыборки."
   ]
  },
  {
   "cell_type": "code",
   "execution_count": 1,
   "id": "1e4870b6-d32f-4024-ae81-c1ac85c879c4",
   "metadata": {},
   "outputs": [],
   "source": [
    "import numpy as np\n",
    "import pandas as pd\n",
    "import matplotlib.pyplot as plt\n",
    "import seaborn as sns\n",
    "import pandahouse as ph\n",
    "from scipy import stats\n",
    "import hashlib\n",
    "import random\n",
    "from dotenv import load_dotenv\n",
    "import os\n",
    "\n",
    "import warnings\n",
    "warnings.filterwarnings('ignore')"
   ]
  },
  {
   "cell_type": "code",
   "execution_count": 2,
   "id": "1c8ae3cd-ab0f-43ea-845e-a84148f41305",
   "metadata": {},
   "outputs": [],
   "source": [
    "load_dotenv()\n",
    "\n",
    "#параметры соединения\n",
    "connection = {'host': os.getenv('HOST'),\n",
    "'database': os.getenv('DATABASE'),\n",
    "'user': os.getenv('USER'),\n",
    "'password': os.getenv('PASSWORD')\n",
    "}"
   ]
  },
  {
   "cell_type": "code",
   "execution_count": 3,
   "id": "2ca5a7de-500e-4237-a21f-91410b9652b2",
   "metadata": {},
   "outputs": [],
   "source": [
    "#функция сплитования\n",
    "my_salt = 'exp_mess_1'\n",
    "def AB_split(id, salt = my_salt, n_groups = 5):\n",
    "    test_id = str(id) + '-' + salt\n",
    "    test_id_digest = hashlib.md5(test_id.encode('ascii')).hexdigest()\n",
    "    test_id_final_int = int(test_id_digest, 16)\n",
    "    return test_id_final_int % n_groups"
   ]
  },
  {
   "cell_type": "code",
   "execution_count": 4,
   "id": "6111eeb2-64e8-4036-a534-ee36e5dba051",
   "metadata": {},
   "outputs": [],
   "source": [
    "q_AA = '''\n",
    "select user_id, \n",
    "       exp_group,\n",
    "       sum(action = 'like') as likes,\n",
    "       sum(action = 'view') as views,\n",
    "       likes/views as ctr\n",
    "from {db}.feed_actions\n",
    "where toDate(time) >= '2024-04-26' and toDate(time) <= '2024-05-02'\n",
    "and exp_group in (1,2)\n",
    "group by user_id, exp_group\n",
    "'''"
   ]
  },
  {
   "cell_type": "code",
   "execution_count": 5,
   "id": "ec2d6d4b-3d36-4c5e-8573-c4beeef84016",
   "metadata": {},
   "outputs": [],
   "source": [
    "data_for_AA = ph.read_clickhouse(q_AA, connection=connection)"
   ]
  },
  {
   "cell_type": "code",
   "execution_count": 6,
   "id": "35e3ec6a-c546-4195-93aa-50e81e3aa766",
   "metadata": {},
   "outputs": [
    {
     "data": {
      "text/html": [
       "<div>\n",
       "<style scoped>\n",
       "    .dataframe tbody tr th:only-of-type {\n",
       "        vertical-align: middle;\n",
       "    }\n",
       "\n",
       "    .dataframe tbody tr th {\n",
       "        vertical-align: top;\n",
       "    }\n",
       "\n",
       "    .dataframe thead th {\n",
       "        text-align: right;\n",
       "    }\n",
       "</style>\n",
       "<table border=\"1\" class=\"dataframe\">\n",
       "  <thead>\n",
       "    <tr style=\"text-align: right;\">\n",
       "      <th></th>\n",
       "      <th>user_id</th>\n",
       "      <th>exp_group</th>\n",
       "      <th>likes</th>\n",
       "      <th>views</th>\n",
       "      <th>ctr</th>\n",
       "    </tr>\n",
       "  </thead>\n",
       "  <tbody>\n",
       "    <tr>\n",
       "      <th>0</th>\n",
       "      <td>109963</td>\n",
       "      <td>1</td>\n",
       "      <td>10</td>\n",
       "      <td>34</td>\n",
       "      <td>0.294118</td>\n",
       "    </tr>\n",
       "    <tr>\n",
       "      <th>1</th>\n",
       "      <td>18392</td>\n",
       "      <td>1</td>\n",
       "      <td>13</td>\n",
       "      <td>56</td>\n",
       "      <td>0.232143</td>\n",
       "    </tr>\n",
       "    <tr>\n",
       "      <th>2</th>\n",
       "      <td>131473</td>\n",
       "      <td>2</td>\n",
       "      <td>19</td>\n",
       "      <td>98</td>\n",
       "      <td>0.193878</td>\n",
       "    </tr>\n",
       "    <tr>\n",
       "      <th>3</th>\n",
       "      <td>23985</td>\n",
       "      <td>2</td>\n",
       "      <td>12</td>\n",
       "      <td>44</td>\n",
       "      <td>0.272727</td>\n",
       "    </tr>\n",
       "    <tr>\n",
       "      <th>4</th>\n",
       "      <td>24523</td>\n",
       "      <td>2</td>\n",
       "      <td>2</td>\n",
       "      <td>10</td>\n",
       "      <td>0.200000</td>\n",
       "    </tr>\n",
       "    <tr>\n",
       "      <th>...</th>\n",
       "      <td>...</td>\n",
       "      <td>...</td>\n",
       "      <td>...</td>\n",
       "      <td>...</td>\n",
       "      <td>...</td>\n",
       "    </tr>\n",
       "    <tr>\n",
       "      <th>16848</th>\n",
       "      <td>17146</td>\n",
       "      <td>2</td>\n",
       "      <td>23</td>\n",
       "      <td>194</td>\n",
       "      <td>0.118557</td>\n",
       "    </tr>\n",
       "    <tr>\n",
       "      <th>16849</th>\n",
       "      <td>132567</td>\n",
       "      <td>1</td>\n",
       "      <td>9</td>\n",
       "      <td>27</td>\n",
       "      <td>0.333333</td>\n",
       "    </tr>\n",
       "    <tr>\n",
       "      <th>16850</th>\n",
       "      <td>25383</td>\n",
       "      <td>2</td>\n",
       "      <td>2</td>\n",
       "      <td>18</td>\n",
       "      <td>0.111111</td>\n",
       "    </tr>\n",
       "    <tr>\n",
       "      <th>16851</th>\n",
       "      <td>108927</td>\n",
       "      <td>2</td>\n",
       "      <td>16</td>\n",
       "      <td>51</td>\n",
       "      <td>0.313725</td>\n",
       "    </tr>\n",
       "    <tr>\n",
       "      <th>16852</th>\n",
       "      <td>17310</td>\n",
       "      <td>2</td>\n",
       "      <td>24</td>\n",
       "      <td>75</td>\n",
       "      <td>0.320000</td>\n",
       "    </tr>\n",
       "  </tbody>\n",
       "</table>\n",
       "<p>16853 rows × 5 columns</p>\n",
       "</div>"
      ],
      "text/plain": [
       "       user_id  exp_group  likes  views       ctr\n",
       "0       109963          1     10     34  0.294118\n",
       "1        18392          1     13     56  0.232143\n",
       "2       131473          2     19     98  0.193878\n",
       "3        23985          2     12     44  0.272727\n",
       "4        24523          2      2     10  0.200000\n",
       "...        ...        ...    ...    ...       ...\n",
       "16848    17146          2     23    194  0.118557\n",
       "16849   132567          1      9     27  0.333333\n",
       "16850    25383          2      2     18  0.111111\n",
       "16851   108927          2     16     51  0.313725\n",
       "16852    17310          2     24     75  0.320000\n",
       "\n",
       "[16853 rows x 5 columns]"
      ]
     },
     "execution_count": 6,
     "metadata": {},
     "output_type": "execute_result"
    }
   ],
   "source": [
    "data_for_AA"
   ]
  },
  {
   "cell_type": "code",
   "execution_count": 7,
   "id": "d0c0e3a9-a556-4998-b7f2-74f381e8cc21",
   "metadata": {},
   "outputs": [
    {
     "data": {
      "image/png": "[encoded data removed]",
      "text/plain": [
       "<Figure size 700x600 with 1 Axes>"
      ]
     },
     "metadata": {},
     "output_type": "display_data"
    }
   ],
   "source": [
    "#распределение ctr по двум группам\n",
    "sns.set(rc={'figure.figsize':(7,6)}, font_scale = 1)\n",
    "\n",
    "groups = sns.histplot(data = data_for_AA, \n",
    "              x='ctr', \n",
    "              hue='exp_group', \n",
    "              palette = ['r', 'b'],\n",
    "              alpha=0.5,\n",
    "              kde=False, bins = 50)"
   ]
  },
  {
   "cell_type": "code",
   "execution_count": 8,
   "id": "cc72c7f0-3a2f-49b0-b56e-5a098ebacdb3",
   "metadata": {},
   "outputs": [
    {
     "name": "stdout",
     "output_type": "stream",
     "text": [
      "CPU times: total: 1min 1s\n",
      "Wall time: 1min 3s\n"
     ]
    }
   ],
   "source": [
    "%%time\n",
    "#случайное взятие подвыборок без повторения длины 500 из исходных выборок\n",
    "p_values = list()\n",
    "alpha = 0.05      #уровень значимости\n",
    "n_samples = 500   #размер подвыборок\n",
    "n_tests = 10000   #количество тестов\n",
    "for _ in range(n_tests):\n",
    "    p_values.append(stats.ttest_ind(data_for_AA[data_for_AA.exp_group==1].ctr.sample(n_samples).values,\n",
    "                                    data_for_AA[data_for_AA.exp_group==2].ctr.sample(n_samples).values,\n",
    "                                    equal_var = False)[1])"
   ]
  },
  {
   "cell_type": "code",
   "execution_count": 9,
   "id": "7531d0d6-6b10-4333-99f9-926e9b524589",
   "metadata": {},
   "outputs": [
    {
     "name": "stdout",
     "output_type": "stream",
     "text": [
      "p-value ниже 0.05 в 4.660% случаев\n"
     ]
    },
    {
     "data": {
      "image/png": "[encoded data removed]",
      "text/plain": [
       "<Figure size 700x400 with 1 Axes>"
      ]
     },
     "metadata": {},
     "output_type": "display_data"
    }
   ],
   "source": [
    "sns.set(rc={'figure.figsize':(7,4)}, font_scale = 1)\n",
    "\n",
    "pvalues = sns.histplot(p_values).set(title = 'Распределение p-values')\n",
    "\n",
    "otvet = sum(np.array(p_values) <= alpha)/n_tests\n",
    "print(f'p-value ниже 0.05 в {otvet*100:.3f}% случаев')"
   ]
  },
  {
   "cell_type": "markdown",
   "id": "da070d7e-c132-486c-bcc5-bed6ab6c224f",
   "metadata": {},
   "source": [
    "#### Cистема сплитования работает корректно, так как только в около 5% случаев (при принятом a = 0.05) была отвергнута нулевая гипотеза (ошибка первого рода) в результате случайного ложного срабатывания."
   ]
  },
  {
   "cell_type": "markdown",
   "id": "53433601",
   "metadata": {},
   "source": [
    "Далее посмотрим на те же группы пользователей во время проведения эксперимента, где для 2 группы вводился новый алгоритм рекомендаций."
   ]
  },
  {
   "cell_type": "code",
   "execution_count": 10,
   "id": "42321415",
   "metadata": {},
   "outputs": [],
   "source": [
    "#получение данных для AБ теста\n",
    "q_AB = '''\n",
    "select user_id, \n",
    "       exp_group,\n",
    "       sum(action = 'like') as likes,\n",
    "       sum(action = 'view') as views,\n",
    "       likes/views as ctr\n",
    "from {db}.feed_actions\n",
    "where toDate(time) >= '2024-05-03' and toDate(time) <= '2024-05-09'\n",
    "and exp_group in (1,2)\n",
    "group by user_id, exp_group\n",
    "'''"
   ]
  },
  {
   "cell_type": "code",
   "execution_count": 11,
   "id": "486317f7",
   "metadata": {},
   "outputs": [],
   "source": [
    "data_for_AB = ph.read_clickhouse(q_AB, connection = connection)"
   ]
  },
  {
   "cell_type": "code",
   "execution_count": 12,
   "id": "50b2be82",
   "metadata": {},
   "outputs": [
    {
     "data": {
      "text/html": [
       "<div>\n",
       "<style scoped>\n",
       "    .dataframe tbody tr th:only-of-type {\n",
       "        vertical-align: middle;\n",
       "    }\n",
       "\n",
       "    .dataframe tbody tr th {\n",
       "        vertical-align: top;\n",
       "    }\n",
       "\n",
       "    .dataframe thead th {\n",
       "        text-align: right;\n",
       "    }\n",
       "</style>\n",
       "<table border=\"1\" class=\"dataframe\">\n",
       "  <thead>\n",
       "    <tr style=\"text-align: right;\">\n",
       "      <th></th>\n",
       "      <th>user_id</th>\n",
       "      <th>exp_group</th>\n",
       "      <th>likes</th>\n",
       "      <th>views</th>\n",
       "      <th>ctr</th>\n",
       "    </tr>\n",
       "  </thead>\n",
       "  <tbody>\n",
       "    <tr>\n",
       "      <th>0</th>\n",
       "      <td>109963</td>\n",
       "      <td>1</td>\n",
       "      <td>3</td>\n",
       "      <td>15</td>\n",
       "      <td>0.200000</td>\n",
       "    </tr>\n",
       "    <tr>\n",
       "      <th>1</th>\n",
       "      <td>26117</td>\n",
       "      <td>1</td>\n",
       "      <td>32</td>\n",
       "      <td>141</td>\n",
       "      <td>0.226950</td>\n",
       "    </tr>\n",
       "    <tr>\n",
       "      <th>2</th>\n",
       "      <td>138232</td>\n",
       "      <td>1</td>\n",
       "      <td>18</td>\n",
       "      <td>73</td>\n",
       "      <td>0.246575</td>\n",
       "    </tr>\n",
       "    <tr>\n",
       "      <th>3</th>\n",
       "      <td>26295</td>\n",
       "      <td>1</td>\n",
       "      <td>39</td>\n",
       "      <td>141</td>\n",
       "      <td>0.276596</td>\n",
       "    </tr>\n",
       "    <tr>\n",
       "      <th>4</th>\n",
       "      <td>18392</td>\n",
       "      <td>1</td>\n",
       "      <td>7</td>\n",
       "      <td>32</td>\n",
       "      <td>0.218750</td>\n",
       "    </tr>\n",
       "    <tr>\n",
       "      <th>...</th>\n",
       "      <td>...</td>\n",
       "      <td>...</td>\n",
       "      <td>...</td>\n",
       "      <td>...</td>\n",
       "      <td>...</td>\n",
       "    </tr>\n",
       "    <tr>\n",
       "      <th>19892</th>\n",
       "      <td>17146</td>\n",
       "      <td>2</td>\n",
       "      <td>0</td>\n",
       "      <td>10</td>\n",
       "      <td>0.000000</td>\n",
       "    </tr>\n",
       "    <tr>\n",
       "      <th>19893</th>\n",
       "      <td>30872</td>\n",
       "      <td>1</td>\n",
       "      <td>11</td>\n",
       "      <td>59</td>\n",
       "      <td>0.186441</td>\n",
       "    </tr>\n",
       "    <tr>\n",
       "      <th>19894</th>\n",
       "      <td>25383</td>\n",
       "      <td>2</td>\n",
       "      <td>42</td>\n",
       "      <td>127</td>\n",
       "      <td>0.330709</td>\n",
       "    </tr>\n",
       "    <tr>\n",
       "      <th>19895</th>\n",
       "      <td>139020</td>\n",
       "      <td>2</td>\n",
       "      <td>17</td>\n",
       "      <td>41</td>\n",
       "      <td>0.414634</td>\n",
       "    </tr>\n",
       "    <tr>\n",
       "      <th>19896</th>\n",
       "      <td>17310</td>\n",
       "      <td>2</td>\n",
       "      <td>9</td>\n",
       "      <td>82</td>\n",
       "      <td>0.109756</td>\n",
       "    </tr>\n",
       "  </tbody>\n",
       "</table>\n",
       "<p>19897 rows × 5 columns</p>\n",
       "</div>"
      ],
      "text/plain": [
       "       user_id  exp_group  likes  views       ctr\n",
       "0       109963          1      3     15  0.200000\n",
       "1        26117          1     32    141  0.226950\n",
       "2       138232          1     18     73  0.246575\n",
       "3        26295          1     39    141  0.276596\n",
       "4        18392          1      7     32  0.218750\n",
       "...        ...        ...    ...    ...       ...\n",
       "19892    17146          2      0     10  0.000000\n",
       "19893    30872          1     11     59  0.186441\n",
       "19894    25383          2     42    127  0.330709\n",
       "19895   139020          2     17     41  0.414634\n",
       "19896    17310          2      9     82  0.109756\n",
       "\n",
       "[19897 rows x 5 columns]"
      ]
     },
     "execution_count": 12,
     "metadata": {},
     "output_type": "execute_result"
    }
   ],
   "source": [
    "data_for_AB"
   ]
  },
  {
   "cell_type": "markdown",
   "id": "57f81c27",
   "metadata": {},
   "source": [
    "#### Cравним распределения данных до и во время проведения эксперимента"
   ]
  },
  {
   "cell_type": "code",
   "execution_count": 13,
   "id": "efc342d7",
   "metadata": {},
   "outputs": [],
   "source": [
    "means_ctr_prev = data_for_AA.groupby('exp_group').agg({'ctr':'mean'}).values\n",
    "means_ctr = data_for_AB.groupby('exp_group').agg({'ctr':'mean'}).values"
   ]
  },
  {
   "cell_type": "code",
   "execution_count": null,
   "id": "d8fd5850",
   "metadata": {},
   "outputs": [],
   "source": [
    "sns.set(font_scale = 1.5)\n",
    "figure, axes = plt.subplots(1, 2, sharex=True, figsize=(17,8))\n",
    "figure.suptitle('Рапределения CTR пользователей')\n",
    "\n",
    "axes[0].set_title('До эксперимента')\n",
    "groups_prev = sns.histplot(data = data_for_AA, \n",
    "              x='ctr', \n",
    "              hue='exp_group', \n",
    "              palette = ['r', 'b'],\n",
    "              alpha=0.5,\n",
    "              kde=False, ax=axes[0], bins = 50)\n",
    "axes[0].axvline(means_ctr_prev[0])\n",
    "axes[0].axvline(means_ctr_prev[1])\n",
    "\n",
    "axes[1].set_title('Во время эксперимента')\n",
    "groups = sns.histplot(data = data_for_AB, \n",
    "              x='ctr', \n",
    "              hue='exp_group', \n",
    "              palette = ['r', 'b'],\n",
    "              alpha=0.5,\n",
    "              kde=False, ax=axes[1], bins = 50)\n",
    "axes[1].axvline(means_ctr[0])\n",
    "axes[1].axvline(means_ctr[1])"
   ]
  },
  {
   "cell_type": "markdown",
   "id": "87dc0803",
   "metadata": {},
   "source": [
    "#### При проверке \"на глаз\" уже можно сказать, что CTR по пользователям в группе 2, где тестировлся новый алгоритм рекомендаций, изменился. Пользователи разделились на две подгруппы, у одних CTR вырос, у других упал. Среднее значение при этом не изменилось."
   ]
  },
  {
   "cell_type": "code",
   "execution_count": null,
   "id": "329b4ef3",
   "metadata": {},
   "outputs": [],
   "source": [
    "# t-тест\n",
    "def t_test(A,B):\n",
    "    t = stats.ttest_ind(A,B,equal_var = False) #equal_var дисперсии не обязательно равны\n",
    "    return t\n",
    "\n",
    "# тест Манна-Уитни\n",
    "def m_test(A,B):\n",
    "    m = stats.mannwhitneyu(A,B)\n",
    "    return m"
   ]
  },
  {
   "cell_type": "markdown",
   "id": "bc1b2749",
   "metadata": {},
   "source": [
    "### t-тест CTR по пользователям в группе"
   ]
  },
  {
   "cell_type": "code",
   "execution_count": null,
   "id": "54fd4c48",
   "metadata": {},
   "outputs": [],
   "source": [
    "print(t_test(data_for_AB[data_for_AB.exp_group==1].ctr,data_for_AB[data_for_AB.exp_group==2].ctr))"
   ]
  },
  {
   "cell_type": "markdown",
   "id": "e5103b7c",
   "metadata": {},
   "source": [
    "#### t-test показал отсутствие значимых различий между выборками, нулевая гипотеза принимается, так как p-value больше 0.05. Результат теста нельзя считать корректным, так как распределение 2-й группы пользователей очень сильно отлично от нормального, оно бимодально, скошено, на таких исходных данных t-тест работает нехорошо."
   ]
  },
  {
   "cell_type": "markdown",
   "id": "ae744a00",
   "metadata": {},
   "source": [
    "### Тест Манна-Уитни CTR по пользователям в группе"
   ]
  },
  {
   "cell_type": "code",
   "execution_count": null,
   "id": "a23e164f",
   "metadata": {},
   "outputs": [],
   "source": [
    "print(m_test(data_for_AB[data_for_AB.exp_group==1].ctr,data_for_AB[data_for_AB.exp_group==2].ctr))"
   ]
  },
  {
   "cell_type": "markdown",
   "id": "b05f6bbe",
   "metadata": {},
   "source": [
    "#### p-value сильно меньше 0.05, следовательно, нулевая гипотеза отвергается. Тест Манна-Уитни показывает наличие статистически значимых различий CTR по пользователям."
   ]
  },
  {
   "cell_type": "markdown",
   "id": "e669c46d",
   "metadata": {},
   "source": [
    "### Пуассоновский бутстреп\n",
    "Возьмем из групп псевдовыборки с возвращением такой же длины, что и исходные выборки, для каждой псевдовыборки посчитаем глобальный CTR.\n",
    "\n",
    "Сгенерируем для каждого объекта выборки значение - попал он или не попал в псевдовыборку. Вероятность того, что значение попадет в псевдовыборку 1/(длина выборки). n испытаний Бернулли с вероятностью успеха 1/n моделируется Биномиальным распределением. Биномиальное распределение при очень маленькой вероятности успеха 1/n аппроксимируется распределением Пуассона с параметром 1. Поэтому для генерации количества попаданий используем распределение Пуассона."
   ]
  },
  {
   "cell_type": "code",
   "execution_count": null,
   "id": "5e8ef57b",
   "metadata": {},
   "outputs": [],
   "source": [
    "def bootstrap(likes1, views1, likes2, views2, n_bootstrap=2000):\n",
    "    # генерация количества попаданий в псевдовыборку\n",
    "    #всего 2000 псевдовыборок\n",
    "    poisson_bootstraps1 = stats.poisson(1).rvs((n_bootstrap, len(likes1))).astype(np.int64)\n",
    "    poisson_bootstraps2 = stats.poisson(1).rvs((n_bootstrap, len(likes2))).astype(np.int64)\n",
    "    \n",
    "    # расчет глобального CTR для полученных псевдовыборок\n",
    "    globalCTR1 = (poisson_bootstraps1*likes1).sum(axis=1)/(poisson_bootstraps1*views1).sum(axis=1)\n",
    "    globalCTR2 = (poisson_bootstraps2*likes2).sum(axis=1)/(poisson_bootstraps2*views2).sum(axis=1)\n",
    "\n",
    "    return globalCTR1, globalCTR2"
   ]
  },
  {
   "cell_type": "code",
   "execution_count": null,
   "id": "1bb2500b",
   "metadata": {},
   "outputs": [],
   "source": [
    "likes1 = data_for_AB[data_for_AB['exp_group'] == 1].likes.values\n",
    "views1 = data_for_AB[data_for_AB['exp_group'] == 1].views.values\n",
    "likes2 = data_for_AB[data_for_AB['exp_group'] == 2].likes.values\n",
    "views2 = data_for_AB[data_for_AB['exp_group'] == 2].views.values\n",
    "\n",
    "ctr1, ctr2 = bootstrap(likes1, views1, likes2, views2)"
   ]
  },
  {
   "cell_type": "code",
   "execution_count": null,
   "id": "628dbf12",
   "metadata": {},
   "outputs": [],
   "source": [
    "sns.set(rc={'figure.figsize':(10,6)}, font_scale = 1)\n",
    "sns.histplot(ctr1, label = 'Контрольная группа',bins = 40)\n",
    "sns.histplot(ctr2, label = 'Тестовая группа',bins = 40)\n",
    "plt.legend()"
   ]
  },
  {
   "cell_type": "markdown",
   "id": "fbaad5c8",
   "metadata": {},
   "source": [
    "#### По графикам распределений глобального CTR по группам видно, что они не пересекаются, следовательно, статистически значимые различия между группами есть. Нулевая гипотеза отвергается. Меры центральной тенденции распределения глобального CTR тестовой группы ниже, чем контрольной группы. То есть глобальный CTR во время проведения эксперимента стал ниже."
   ]
  },
  {
   "cell_type": "code",
   "execution_count": null,
   "id": "d02f2341",
   "metadata": {},
   "outputs": [],
   "source": [
    "sns.set(rc={'figure.figsize':(8,5)}, font_scale = 1)\n",
    "sns.histplot(ctr1 - ctr2, bins = 40).set_title('Распределения разницы глобальных CTR')"
   ]
  },
  {
   "cell_type": "markdown",
   "id": "70c525aa",
   "metadata": {},
   "source": [
    "#### Распределение разницы глобального CTR контрольной и тестовой групп больше 0."
   ]
  },
  {
   "cell_type": "markdown",
   "id": "7096e2ff",
   "metadata": {},
   "source": [
    "### Бакетное преобразование\n",
    "Разделим каждую группу пользователей на 16 бакетов. Для каждого бакета посчитаем медианное значение CTR."
   ]
  },
  {
   "cell_type": "code",
   "execution_count": null,
   "id": "9d0384c1",
   "metadata": {},
   "outputs": [],
   "source": [
    "#хэширование с солью для разделения на бакеты\n",
    "my_salt = 'exp_mess_1'\n",
    "def split(id, salt = my_salt, n_groups = 5):\n",
    "    test_id = str(id) + '-' + salt\n",
    "    test_id_digest = hashlib.md5(test_id.encode('ascii')).hexdigest()\n",
    "    test_id_final_int = int(test_id_digest, 16)\n",
    "    return test_id_final_int % n_groups"
   ]
  },
  {
   "cell_type": "code",
   "execution_count": null,
   "id": "818771a3",
   "metadata": {},
   "outputs": [],
   "source": [
    "group1 = data_for_AB[data_for_AB.exp_group==1]\n",
    "group2 = data_for_AB[data_for_AB.exp_group==2]\n",
    "\n",
    "group1['bucket'] = group1['user_id'].apply(lambda id: split(id, n_groups=40))\n",
    "group2['bucket'] = group2['user_id'].apply(lambda id: split(id, n_groups=40))"
   ]
  },
  {
   "cell_type": "code",
   "execution_count": null,
   "id": "20a27a22",
   "metadata": {},
   "outputs": [],
   "source": [
    "group1"
   ]
  },
  {
   "cell_type": "code",
   "execution_count": null,
   "id": "4bbcc4e3",
   "metadata": {},
   "outputs": [],
   "source": [
    "buckets_ctr1 = group1.groupby('bucket').ctr.quantile(0.5)\n",
    "buckets_ctr2 = group2.groupby('bucket').ctr.quantile(0.5)"
   ]
  },
  {
   "cell_type": "code",
   "execution_count": null,
   "id": "bf25d148",
   "metadata": {},
   "outputs": [],
   "source": [
    "sns.set(rc={'figure.figsize':(8,5)}, font_scale = 1)\n",
    "sns.histplot(buckets_ctr1, bins = 10,\n",
    "              alpha=0.5,\n",
    "              kde=False, label = 'Контроль').set_title('Распределение медиан CTR по бакетам')         \n",
    "\n",
    "sns.histplot(buckets_ctr2, bins = 10,\n",
    "              alpha=0.5,\n",
    "              kde=False, label = 'Тест')    \n",
    "plt.legend()"
   ]
  },
  {
   "cell_type": "code",
   "execution_count": null,
   "id": "828f5a15",
   "metadata": {},
   "outputs": [],
   "source": [
    "#t-тест\n",
    "print(t_test(buckets_ctr1,buckets_ctr2))\n",
    "\n",
    "# тест Манна-Уитни\n",
    "print(m_test(buckets_ctr1,buckets_ctr2))"
   ]
  },
  {
   "cell_type": "markdown",
   "id": "aa8b4160",
   "metadata": {},
   "source": [
    "#### Оба теста показывают наличие значимых различий между группами. p-value меньше 0.05, нулевая гипотеза отвергается."
   ]
  },
  {
   "cell_type": "markdown",
   "id": "002fadef",
   "metadata": {},
   "source": [
    "#### Введение нового алгоритма дало прирост CTR только у некоторой части пользователей, у большенства же CTR упал. Если смотреть глобально, то новый алгоритм во 2 группе привел к падению CTR. Для того, чтобы понять, почему так произошло, необходимо провести дополнительное исследование. На данном этапе не стоит раскатывать обновление на всех пользователей. Нулевая гипотаза отвергается, обнаружено статистически значимое падение метрики."
   ]
  }
 ],
 "metadata": {
  "kernelspec": {
   "display_name": "Python 3 (ipykernel)",
   "language": "python",
   "name": "python3"
  },
  "language_info": {
   "codemirror_mode": {
    "name": "ipython",
    "version": 3
   },
   "file_extension": ".py",
   "mimetype": "text/x-python",
   "name": "python",
   "nbconvert_exporter": "python",
   "pygments_lexer": "ipython3",
   "version": "3.11.5"
  }
 },
 "nbformat": 4,
 "nbformat_minor": 5
}
